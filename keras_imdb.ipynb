{
  "nbformat": 4,
  "nbformat_minor": 0,
  "metadata": {
    "colab": {
      "name": "keras_imdb.ipynb",
      "provenance": []
    },
    "kernelspec": {
      "name": "python3",
      "display_name": "Python 3"
    }
  },
  "cells": [
    {
      "cell_type": "code",
      "metadata": {
        "id": "L1AT1gap7d_H",
        "colab_type": "code",
        "colab": {}
      },
      "source": [
        "import tensorflow as tf\n",
        "from tensorflow import keras\n",
        "import numpy as np"
      ],
      "execution_count": 0,
      "outputs": []
    },
    {
      "cell_type": "code",
      "metadata": {
        "id": "Mk7HTqfMCio4",
        "colab_type": "code",
        "colab": {}
      },
      "source": [
        "# IMPORTING THE DATA\n",
        "data = keras.datasets.imdb\n",
        "\n",
        "(train_data, train_labels), (test_data, test_labels) = data.load_data(num_words=10000)\n",
        "\n",
        "word_index = data.get_word_index()"
      ],
      "execution_count": 0,
      "outputs": []
    },
    {
      "cell_type": "code",
      "metadata": {
        "id": "0bn-Lg6u54rr",
        "colab_type": "code",
        "colab": {}
      },
      "source": [
        "# PREPROCESSING DATA\n",
        "word_index = {k:(v+3) for k, v in word_index.items()}\n",
        "word_index['<PAD>'] = 0\n",
        "word_index['<START>'] = 1\n",
        "word_index['<UNK>'] = 2\n",
        "word_index['<UNUSED>'] = 3\n",
        "\n",
        "reverse_word_index = dict([(value, key) for (key, value) in word_index.items()])\n",
        "\n",
        "train_data = keras.preprocessing.sequence.pad_sequences(train_data, value=word_index['<PAD>'], padding=\"post\", maxlen=250)\n",
        "test_data = keras.preprocessing.sequence.pad_sequences(test_data, value=word_index['<PAD>'], padding=\"post\", maxlen=250)\n",
        "\n",
        "def decode_review(text):\n",
        "  return ' '.join([reverse_word_index.get(i, '?') for i in text])"
      ],
      "execution_count": 0,
      "outputs": []
    },
    {
      "cell_type": "code",
      "metadata": {
        "id": "e1n55o9MGuKn",
        "colab_type": "code",
        "colab": {
          "base_uri": "https://localhost:8080/",
          "height": 1000
        },
        "outputId": "961d5ec1-c637-4b0b-c5ed-839178994642"
      },
      "source": [
        "# MODEL\n",
        "model = keras.Sequential()\n",
        "model.add(keras.layers.Embedding(10000, 16))\n",
        "model.add(keras.layers.GlobalAveragePooling1D())\n",
        "model.add(keras.layers.Dense(16, activation=\"relu\"))\n",
        "model.add(keras.layers.Dense(1, activation=\"sigmoid\"))\n",
        "\n",
        "model.compile(optimizer=\"adam\", loss=\"binary_crossentropy\", metrics=[\"accuracy\"])\n",
        "\n",
        "x_val = train_data[:10000]\n",
        "x_train = train_data[10000:]\n",
        "\n",
        "y_val = train_labels[:10000]\n",
        "y_train = train_labels[10000:]\n",
        "\n",
        "fitModel = model.fit(x_train, y_train, epochs=40, batch_size=512, validation_data=(x_val, y_val), verbose=1)"
      ],
      "execution_count": 57,
      "outputs": [
        {
          "output_type": "stream",
          "text": [
            "Train on 15000 samples, validate on 10000 samples\n",
            "Epoch 1/40\n",
            "15000/15000 [==============================] - 1s 58us/sample - loss: 0.6919 - acc: 0.5821 - val_loss: 0.6897 - val_acc: 0.7409\n",
            "Epoch 2/40\n",
            "15000/15000 [==============================] - 1s 46us/sample - loss: 0.6860 - acc: 0.7423 - val_loss: 0.6820 - val_acc: 0.7432\n",
            "Epoch 3/40\n",
            "15000/15000 [==============================] - 1s 47us/sample - loss: 0.6745 - acc: 0.7405 - val_loss: 0.6677 - val_acc: 0.7509\n",
            "Epoch 4/40\n",
            "15000/15000 [==============================] - 1s 47us/sample - loss: 0.6546 - acc: 0.7697 - val_loss: 0.6454 - val_acc: 0.7619\n",
            "Epoch 5/40\n",
            "15000/15000 [==============================] - 1s 47us/sample - loss: 0.6255 - acc: 0.7853 - val_loss: 0.6150 - val_acc: 0.7766\n",
            "Epoch 6/40\n",
            "15000/15000 [==============================] - 1s 46us/sample - loss: 0.5882 - acc: 0.8011 - val_loss: 0.5782 - val_acc: 0.7884\n",
            "Epoch 7/40\n",
            "15000/15000 [==============================] - 1s 45us/sample - loss: 0.5458 - acc: 0.8199 - val_loss: 0.5378 - val_acc: 0.8092\n",
            "Epoch 8/40\n",
            "15000/15000 [==============================] - 1s 46us/sample - loss: 0.5008 - acc: 0.8363 - val_loss: 0.4975 - val_acc: 0.8247\n",
            "Epoch 9/40\n",
            "15000/15000 [==============================] - 1s 48us/sample - loss: 0.4569 - acc: 0.8510 - val_loss: 0.4599 - val_acc: 0.8357\n",
            "Epoch 10/40\n",
            "15000/15000 [==============================] - 1s 47us/sample - loss: 0.4169 - acc: 0.8633 - val_loss: 0.4273 - val_acc: 0.8456\n",
            "Epoch 11/40\n",
            "15000/15000 [==============================] - 1s 47us/sample - loss: 0.3822 - acc: 0.8757 - val_loss: 0.4002 - val_acc: 0.8518\n",
            "Epoch 12/40\n",
            "15000/15000 [==============================] - 1s 48us/sample - loss: 0.3530 - acc: 0.8853 - val_loss: 0.3781 - val_acc: 0.8588\n",
            "Epoch 13/40\n",
            "15000/15000 [==============================] - 1s 45us/sample - loss: 0.3283 - acc: 0.8907 - val_loss: 0.3609 - val_acc: 0.8638\n",
            "Epoch 14/40\n",
            "15000/15000 [==============================] - 1s 46us/sample - loss: 0.3069 - acc: 0.8973 - val_loss: 0.3462 - val_acc: 0.8686\n",
            "Epoch 15/40\n",
            "15000/15000 [==============================] - 1s 46us/sample - loss: 0.2890 - acc: 0.9007 - val_loss: 0.3342 - val_acc: 0.8722\n",
            "Epoch 16/40\n",
            "15000/15000 [==============================] - 1s 45us/sample - loss: 0.2728 - acc: 0.9065 - val_loss: 0.3251 - val_acc: 0.8734\n",
            "Epoch 17/40\n",
            "15000/15000 [==============================] - 1s 46us/sample - loss: 0.2584 - acc: 0.9105 - val_loss: 0.3167 - val_acc: 0.8774\n",
            "Epoch 18/40\n",
            "15000/15000 [==============================] - 1s 46us/sample - loss: 0.2454 - acc: 0.9151 - val_loss: 0.3101 - val_acc: 0.8789\n",
            "Epoch 19/40\n",
            "15000/15000 [==============================] - 1s 47us/sample - loss: 0.2337 - acc: 0.9195 - val_loss: 0.3044 - val_acc: 0.8793\n",
            "Epoch 20/40\n",
            "15000/15000 [==============================] - 1s 46us/sample - loss: 0.2231 - acc: 0.9223 - val_loss: 0.2999 - val_acc: 0.8815\n",
            "Epoch 21/40\n",
            "15000/15000 [==============================] - 1s 46us/sample - loss: 0.2130 - acc: 0.9264 - val_loss: 0.2964 - val_acc: 0.8814\n",
            "Epoch 22/40\n",
            "15000/15000 [==============================] - 1s 46us/sample - loss: 0.2038 - acc: 0.9305 - val_loss: 0.2932 - val_acc: 0.8826\n",
            "Epoch 23/40\n",
            "15000/15000 [==============================] - 1s 46us/sample - loss: 0.1954 - acc: 0.9328 - val_loss: 0.2905 - val_acc: 0.8839\n",
            "Epoch 24/40\n",
            "15000/15000 [==============================] - 1s 45us/sample - loss: 0.1869 - acc: 0.9379 - val_loss: 0.2886 - val_acc: 0.8842\n",
            "Epoch 25/40\n",
            "15000/15000 [==============================] - 1s 45us/sample - loss: 0.1795 - acc: 0.9407 - val_loss: 0.2893 - val_acc: 0.8845\n",
            "Epoch 26/40\n",
            "15000/15000 [==============================] - 1s 47us/sample - loss: 0.1725 - acc: 0.9447 - val_loss: 0.2862 - val_acc: 0.8846\n",
            "Epoch 27/40\n",
            "15000/15000 [==============================] - 1s 47us/sample - loss: 0.1653 - acc: 0.9467 - val_loss: 0.2857 - val_acc: 0.8854\n",
            "Epoch 28/40\n",
            "15000/15000 [==============================] - 1s 47us/sample - loss: 0.1587 - acc: 0.9492 - val_loss: 0.2858 - val_acc: 0.8852\n",
            "Epoch 29/40\n",
            "15000/15000 [==============================] - 1s 47us/sample - loss: 0.1529 - acc: 0.9515 - val_loss: 0.2857 - val_acc: 0.8860\n",
            "Epoch 30/40\n",
            "15000/15000 [==============================] - 1s 47us/sample - loss: 0.1474 - acc: 0.9530 - val_loss: 0.2861 - val_acc: 0.8853\n",
            "Epoch 31/40\n",
            "15000/15000 [==============================] - 1s 47us/sample - loss: 0.1414 - acc: 0.9568 - val_loss: 0.2879 - val_acc: 0.8842\n",
            "Epoch 32/40\n",
            "15000/15000 [==============================] - 1s 46us/sample - loss: 0.1362 - acc: 0.9581 - val_loss: 0.2884 - val_acc: 0.8859\n",
            "Epoch 33/40\n",
            "15000/15000 [==============================] - 1s 46us/sample - loss: 0.1313 - acc: 0.9608 - val_loss: 0.2895 - val_acc: 0.8868\n",
            "Epoch 34/40\n",
            "15000/15000 [==============================] - 1s 47us/sample - loss: 0.1262 - acc: 0.9631 - val_loss: 0.2908 - val_acc: 0.8870\n",
            "Epoch 35/40\n",
            "15000/15000 [==============================] - 1s 46us/sample - loss: 0.1215 - acc: 0.9658 - val_loss: 0.2921 - val_acc: 0.8856\n",
            "Epoch 36/40\n",
            "15000/15000 [==============================] - 1s 46us/sample - loss: 0.1172 - acc: 0.9668 - val_loss: 0.2946 - val_acc: 0.8861\n",
            "Epoch 37/40\n",
            "15000/15000 [==============================] - 1s 46us/sample - loss: 0.1128 - acc: 0.9679 - val_loss: 0.2978 - val_acc: 0.8851\n",
            "Epoch 38/40\n",
            "15000/15000 [==============================] - 1s 47us/sample - loss: 0.1090 - acc: 0.9689 - val_loss: 0.2989 - val_acc: 0.8859\n",
            "Epoch 39/40\n",
            "15000/15000 [==============================] - 1s 46us/sample - loss: 0.1047 - acc: 0.9723 - val_loss: 0.3015 - val_acc: 0.8846\n",
            "Epoch 40/40\n",
            "15000/15000 [==============================] - 1s 47us/sample - loss: 0.1009 - acc: 0.9727 - val_loss: 0.3039 - val_acc: 0.8849\n"
          ],
          "name": "stdout"
        }
      ]
    },
    {
      "cell_type": "code",
      "metadata": {
        "id": "vHLlgYp2iNfB",
        "colab_type": "code",
        "colab": {
          "base_uri": "https://localhost:8080/",
          "height": 122
        },
        "outputId": "fa383adc-f5a0-4e1c-9238-ba6263b8322f"
      },
      "source": [
        "# RESULTS\n",
        "results = model.evaluate(test_data, test_labels)\n",
        "\n",
        "test_review = test_data[0]\n",
        "predict = model.predict([test_review])\n",
        "print('Review:')\n",
        "print(decode_review(test_review))\n",
        "print('Prediction: ' + str(predict[0]))\n",
        "print('Actual: ' + str(test_labels[0]))"
      ],
      "execution_count": 59,
      "outputs": [
        {
          "output_type": "stream",
          "text": [
            "25000/25000 [==============================] - 1s 39us/sample - loss: 0.3252 - acc: 0.8724\n",
            "Review:\n",
            "<START> please give this one a miss br br <UNK> <UNK> and the rest of the cast rendered terrible performances the show is flat flat flat br br i don't know how michael madison could have allowed this one on his plate he almost seemed to know this wasn't going to work out and his performance was quite <UNK> so all you madison fans give this a miss <PAD> <PAD> <PAD> <PAD> <PAD> <PAD> <PAD> <PAD> <PAD> <PAD> <PAD> <PAD> <PAD> <PAD> <PAD> <PAD> <PAD> <PAD> <PAD> <PAD> <PAD> <PAD> <PAD> <PAD> <PAD> <PAD> <PAD> <PAD> <PAD> <PAD> <PAD> <PAD> <PAD> <PAD> <PAD> <PAD> <PAD> <PAD> <PAD> <PAD> <PAD> <PAD> <PAD> <PAD> <PAD> <PAD> <PAD> <PAD> <PAD> <PAD> <PAD> <PAD> <PAD> <PAD> <PAD> <PAD> <PAD> <PAD> <PAD> <PAD> <PAD> <PAD> <PAD> <PAD> <PAD> <PAD> <PAD> <PAD> <PAD> <PAD> <PAD> <PAD> <PAD> <PAD> <PAD> <PAD> <PAD> <PAD> <PAD> <PAD> <PAD> <PAD> <PAD> <PAD> <PAD> <PAD> <PAD> <PAD> <PAD> <PAD> <PAD> <PAD> <PAD> <PAD> <PAD> <PAD> <PAD> <PAD> <PAD> <PAD> <PAD> <PAD> <PAD> <PAD> <PAD> <PAD> <PAD> <PAD> <PAD> <PAD> <PAD> <PAD> <PAD> <PAD> <PAD> <PAD> <PAD> <PAD> <PAD> <PAD> <PAD> <PAD> <PAD> <PAD> <PAD> <PAD> <PAD> <PAD> <PAD> <PAD> <PAD> <PAD> <PAD> <PAD> <PAD> <PAD> <PAD> <PAD> <PAD> <PAD> <PAD> <PAD> <PAD> <PAD> <PAD> <PAD> <PAD> <PAD> <PAD> <PAD> <PAD> <PAD> <PAD> <PAD> <PAD> <PAD> <PAD> <PAD> <PAD> <PAD> <PAD> <PAD> <PAD> <PAD> <PAD> <PAD> <PAD> <PAD> <PAD> <PAD> <PAD> <PAD> <PAD> <PAD> <PAD> <PAD> <PAD> <PAD> <PAD> <PAD> <PAD> <PAD>\n",
            "Prediction: [0.]\n",
            "Actual: 0\n"
          ],
          "name": "stdout"
        }
      ]
    }
  ]
}